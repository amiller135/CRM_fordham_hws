{
 "cells": [
  {
   "cell_type": "code",
   "execution_count": 1,
   "metadata": {},
   "outputs": [],
   "source": [
    "import hw1_v2 as hw1\n",
    "import yahoofinancials as yfs\n",
    "import yfinance as yf\n",
    "import numpy as np\n",
    "from scipy.stats import norm\n",
    "from scipy.optimize import fsolve"
   ]
  },
  {
   "cell_type": "markdown",
   "metadata": {},
   "source": [
    "## Companies: GE, AAPL, TSLA, MSFT,  GS\n",
    "\n",
    "### 1. Take credit issuers you were assigned and perform the following steps:\n",
    "- Find their public ratings from major providers – lookup PD’s for one year, also look up cumulative PD’s for each of the ratings over 5-year time periods\n",
    "\n",
    "- Calculate their Altman’s Z scores based on available data – does Z score agree with public ratings? What would you change based on this information?\n",
    "\n",
    "- Perform Merton model analysis on each of the issuers, calculate their DD’s and implied PD’s over 5 years\n",
    "\n",
    "- Obtain credit spreads for each of the issuers, calculate and draw default intensity step term structure (using Hull approach) – is it different from above steps, why?\n",
    "\n",
    "- Calculate implied JT-model π’s from the generic issuer with the same rating (i.e. look at generic 5-yr spread for issuer in the same rating category, solve back for π using 5-year cumulative transition matrix), apply those π’s to your issuers PD’s calculated from Hull above, then – what should their 5-year credit spreads be? Are they consistent with the market pricing? Why yes, or why no?\n",
    "\n",
    "### 2. Compare PD’s from each of the steps above; write about how you would you use these estimates together\n",
    "### 3. Write up your findings in the clear concise summary"
   ]
  },
  {
   "cell_type": "markdown",
   "metadata": {},
   "source": [
    "## Altman's Z\n",
    "- X1 – Working Capital / Total Assets\n",
    "- X2 – Retained Earnings since Inception / Total Assets \n",
    "- X3 – Profit Before Interest and Tax / Total Assets\n",
    "- X4 – Market Value of Equity / Book Value of Total Debt \n",
    "- X5 – Sales / Total Asset\n",
    "\n",
    "Working Capital = Current Asset - Current Liabilities\n",
    "\n",
    "\n",
    "The Z-score then leads to assessment of bankruptcy risk as Low (Z > 2.8), Moderate/Uncertain (1.8 < Z < 2.8), or Very High (Z < 1.8)\n"
   ]
  },
  {
   "cell_type": "code",
   "execution_count": 2,
   "metadata": {},
   "outputs": [],
   "source": [
    "def get_equity_vol(ticker,start_date,end_date,interval):\n",
    "    '''param ticker: could be list or string, could be one or multiple\n",
    "       param start_date: in format 'YYYY-MM-DD'\n",
    "       param end_date: in format 'YYYY-MM-DD'\n",
    "       param interval: valid intervals: 1m,2m,5m,15m,30m,60m,90m,1h,1d,5d,1wk,1mo,3mo\n",
    "    '''\n",
    "    \n",
    "    return yf.download(tickers=ticker,start=start_date, end=end_date,interval=interval)[\n",
    "        'Adj Close'].pct_change().std()*np.sqrt(252)\n",
    "    "
   ]
  },
  {
   "cell_type": "code",
   "execution_count": 5,
   "metadata": {},
   "outputs": [
    {
     "name": "stdout",
     "output_type": "stream",
     "text": [
      "[*********************100%***********************]  5 of 5 downloaded\n"
     ]
    }
   ],
   "source": [
    "tickers=[\"AAPL\",\"GE\",\"TSLA\",\"MSFT\",\"GS\"]\n",
    "start=\"2018-10-01\"\n",
    "end=\"2019-10-01\"\n",
    "interval='1d'\n",
    "\n",
    "vol = get_equity_vol(ticker=tickers,start_date=start,end_date=end,interval=interval)"
   ]
  },
  {
   "cell_type": "code",
   "execution_count": 6,
   "metadata": {},
   "outputs": [
    {
     "data": {
      "text/plain": [
       "AAPL    0.320813\n",
       "GE      0.462401\n",
       "GS      0.280134\n",
       "MSFT    0.269190\n",
       "TSLA    0.518855\n",
       "dtype: float64"
      ]
     },
     "execution_count": 6,
     "metadata": {},
     "output_type": "execute_result"
    }
   ],
   "source": [
    "vol"
   ]
  },
  {
   "cell_type": "markdown",
   "metadata": {},
   "source": [
    "**Note**:\n",
    "\n",
    "- Used 1 yr of stock prices (from 2018-10-1 to 2019-10-1)\n",
    "- Annulized volatility\n",
    "\n"
   ]
  },
  {
   "cell_type": "markdown",
   "metadata": {},
   "source": [
    "# 1. AAPL\n"
   ]
  },
  {
   "cell_type": "code",
   "execution_count": null,
   "metadata": {},
   "outputs": [],
   "source": [
    "## 1.0 "
   ]
  },
  {
   "cell_type": "code",
   "execution_count": 7,
   "metadata": {},
   "outputs": [],
   "source": [
    "\n",
    "aapl_totalAsset = yfs.YahooFinancials('AAPL').get_financial_stmts('annual','balance')\\\n",
    "[\"balanceSheetHistory\"][\"AAPL\"][0]['2018-09-29']['totalAssets'];\n",
    "\n",
    "aapl_totalCurrLib = yfs.YahooFinancials('AAPL').get_financial_stmts('annual','balance')\\\n",
    "[\"balanceSheetHistory\"][\"AAPL\"][0]['2018-09-29']['totalCurrentLiabilities'];\n",
    "\n",
    "aapl_totalCurrAsset = yfs.YahooFinancials('AAPL').get_financial_stmts('annual','balance')\\\n",
    "[\"balanceSheetHistory\"][\"AAPL\"][0]['2018-09-29']['totalCurrentAssets'];\n",
    "\n",
    "aapl_RetainedEarning = yfs.YahooFinancials('AAPL').get_financial_stmts('annual','balance')\\\n",
    "[\"balanceSheetHistory\"][\"AAPL\"][0]['2018-09-29']['retainedEarnings'];\n",
    "\n",
    "aapl_EBIT = yfs.YahooFinancials('AAPL').get_financial_stmts('annual','income')\\\n",
    "[\"incomeStatementHistory\"][\"AAPL\"][0]['2018-09-29']['ebit']\n",
    "\n",
    "aapl_mkt_val = yfs.YahooFinancials('AAPL').get_market_cap()\n",
    "\n",
    "aapl_sales = yfs.YahooFinancials('AAPL').get_total_revenue()\n"
   ]
  },
  {
   "cell_type": "code",
   "execution_count": 8,
   "metadata": {},
   "outputs": [
    {
     "data": {
      "text/plain": [
       "14473000000"
      ]
     },
     "execution_count": 8,
     "metadata": {},
     "output_type": "execute_result"
    }
   ],
   "source": [
    "# Working Capital\n",
    "aapl_working_cap = aapl_totalCurrAsset-aapl_totalCurrLib\n",
    "aapl_working_cap"
   ]
  },
  {
   "cell_type": "code",
   "execution_count": 9,
   "metadata": {},
   "outputs": [],
   "source": [
    "# Book Value of Debt\n",
    "\n",
    "aapl_longtermDebt = yfs.YahooFinancials('AAPL').get_financial_stmts('annual','balance')\\\n",
    "[\"balanceSheetHistory\"][\"AAPL\"][0]['2018-09-29']['longTermDebt'];\n",
    "\n",
    "aapl_accountsPayable = yfs.YahooFinancials('AAPL').get_financial_stmts('annual','balance')\\\n",
    "[\"balanceSheetHistory\"][\"AAPL\"][0]['2018-09-29']['accountsPayable'];\n",
    "\n",
    "aapl_book_val_debt = aapl_accountsPayable+aapl_longtermDebt+aapl_totalCurrLib"
   ]
  },
  {
   "cell_type": "markdown",
   "metadata": {},
   "source": [
    "**Note:**\n",
    "- Book Value of Debt = Long Term Debt + Notes Payable + Current Portion of Long-Term Debt\n",
    "- I used _accountsPayable_ as  _Notes Payable_\n",
    "- _Total current debt_ as _Curent Portion of Long-Term Debt_"
   ]
  },
  {
   "cell_type": "markdown",
   "metadata": {},
   "source": [
    "## 1.1 Altman's Z"
   ]
  },
  {
   "cell_type": "code",
   "execution_count": 10,
   "metadata": {},
   "outputs": [
    {
     "data": {
      "text/plain": [
       "5.378392427067647"
      ]
     },
     "execution_count": 10,
     "metadata": {},
     "output_type": "execute_result"
    }
   ],
   "source": [
    "aapl_altman_z=hw1.calc_altman_z(total_assets=aapl_totalAsset,\n",
    "                                working_capital=aapl_working_cap,\n",
    "                                retained_earnings=aapl_RetainedEarning,\n",
    "                                ebit=aapl_EBIT,\n",
    "                                mv_equity=aapl_mkt_val,\n",
    "                                sales=aapl_sales,\n",
    "                               book_value_debt=aapl_book_val_debt)\n",
    "aapl_altman_z"
   ]
  },
  {
   "cell_type": "markdown",
   "metadata": {},
   "source": [
    "Z > 2.8, bankruptcy risk is low."
   ]
  },
  {
   "cell_type": "markdown",
   "metadata": {},
   "source": [
    "## 1.2 Merton"
   ]
  },
  {
   "cell_type": "code",
   "execution_count": 11,
   "metadata": {},
   "outputs": [],
   "source": [
    "aapl_totalLib = yfs.YahooFinancials('AAPL').get_financial_stmts('annual','balance')\\\n",
    "[\"balanceSheetHistory\"][\"AAPL\"][0]['2018-09-29']['totalLiab'];\n"
   ]
  },
  {
   "cell_type": "code",
   "execution_count": 38,
   "metadata": {},
   "outputs": [
    {
     "data": {
      "text/plain": [
       "{1: (1.6436963042864114, 0.050119474869201264),\n",
       " 2: (-0.4077213226851055, 0.658260859360561),\n",
       " 3: (-1.6900280421311717, 0.9544887050353148),\n",
       " 4: (-2.9572599582868384, 0.9984480684240471),\n",
       " 5: (-4.312975848772996, 0.9999919464140388)}"
      ]
     },
     "execution_count": 38,
     "metadata": {},
     "output_type": "execute_result"
    }
   ],
   "source": [
    "dict_profile = {}\n",
    "for num in range(1, 6):\n",
    "    aapl_DD_Merton,aapl_PD_Merton =hw1.calc_prob_default(assets=aapl_totalAsset,\n",
    "                                                         equity=aapl_mkt_val,\n",
    "                                                         debt=aapl_totalLib,\n",
    "                                                         t=num,\n",
    "                                                         equity_vol=vol['AAPL'],\n",
    "                                                         rf=0.0173)\n",
    "    dict_profile.update({num: (aapl_DD_Merton, aapl_PD_Merton)})\n",
    "    \n",
    "dict_profile"
   ]
  },
  {
   "cell_type": "code",
   "execution_count": null,
   "metadata": {},
   "outputs": [],
   "source": []
  },
  {
   "cell_type": "markdown",
   "metadata": {},
   "source": [
    "# 2.  GE"
   ]
  },
  {
   "cell_type": "code",
   "execution_count": 13,
   "metadata": {},
   "outputs": [],
   "source": [
    "ge_totalAsset = yfs.YahooFinancials('GE').get_financial_stmts('annual','balance')\\\n",
    "[\"balanceSheetHistory\"][\"GE\"][0]['2018-12-31']['totalAssets'];\n",
    "\n",
    "ge_totalCurrLib = yfs.YahooFinancials('GE').get_financial_stmts('annual','balance')\\\n",
    "[\"balanceSheetHistory\"][\"GE\"][0]['2018-12-31']['totalCurrentLiabilities'];\n",
    "\n",
    "ge_totalCurrAsset = yfs.YahooFinancials('GE').get_financial_stmts('annual','balance')\\\n",
    "[\"balanceSheetHistory\"][\"GE\"][0]['2018-12-31']['totalCurrentAssets'];\n",
    "\n",
    "ge_RetainedEarning = yfs.YahooFinancials('GE').get_financial_stmts('annual','balance')\\\n",
    "[\"balanceSheetHistory\"][\"GE\"][0]['2018-12-31']['retainedEarnings'];\n",
    "\n",
    "ge_EBIT = yfs.YahooFinancials('GE').get_financial_stmts('annual','income')\\\n",
    "[\"incomeStatementHistory\"][\"GE\"][0]['2018-12-31']['ebit']\n",
    "\n",
    "ge_mkt_val = yfs.YahooFinancials('GE').get_market_cap()\n",
    "\n",
    "ge_sales = yfs.YahooFinancials('GE').get_total_revenue()\n"
   ]
  },
  {
   "cell_type": "code",
   "execution_count": 14,
   "metadata": {},
   "outputs": [
    {
     "data": {
      "text/plain": [
       "46037000000"
      ]
     },
     "execution_count": 14,
     "metadata": {},
     "output_type": "execute_result"
    }
   ],
   "source": [
    "# Working Capital\n",
    "ge_working_cap = ge_totalCurrAsset-ge_totalCurrLib\n",
    "ge_working_cap"
   ]
  },
  {
   "cell_type": "code",
   "execution_count": 15,
   "metadata": {},
   "outputs": [],
   "source": [
    "# Book Value of Debt\n",
    "\n",
    "ge_longtermDebt = yfs.YahooFinancials('GE').get_financial_stmts('annual','balance')\\\n",
    "[\"balanceSheetHistory\"][\"GE\"][0]['2018-12-31']['longTermDebt'];\n",
    "\n",
    "ge_accountsPayable = yfs.YahooFinancials('GE').get_financial_stmts('annual','balance')\\\n",
    "[\"balanceSheetHistory\"][\"GE\"][0]['2018-12-31']['accountsPayable'];\n",
    "\n",
    "ge_book_val_debt = ge_accountsPayable+ge_longtermDebt+ge_totalCurrLib"
   ]
  },
  {
   "cell_type": "markdown",
   "metadata": {},
   "source": [
    "## 1.1 Altman's Z"
   ]
  },
  {
   "cell_type": "code",
   "execution_count": 16,
   "metadata": {},
   "outputs": [
    {
     "data": {
      "text/plain": [
       "1.408276598033333"
      ]
     },
     "execution_count": 16,
     "metadata": {},
     "output_type": "execute_result"
    }
   ],
   "source": [
    "ge_altman_z=hw1.calc_altman_z(total_assets=ge_totalAsset,\n",
    "                                working_capital=ge_working_cap,\n",
    "                                retained_earnings=ge_RetainedEarning,\n",
    "                                ebit=ge_EBIT,\n",
    "                                mv_equity=ge_mkt_val,\n",
    "                                sales=ge_sales,\n",
    "                                book_value_debt=ge_book_val_debt)\n",
    "ge_altman_z"
   ]
  },
  {
   "cell_type": "markdown",
   "metadata": {},
   "source": [
    "Z < 1.8, bankruptcy risk is high."
   ]
  },
  {
   "cell_type": "markdown",
   "metadata": {},
   "source": [
    "## 1.2 Merton"
   ]
  },
  {
   "cell_type": "code",
   "execution_count": 17,
   "metadata": {},
   "outputs": [],
   "source": [
    "ge_totalLib = yfs.YahooFinancials('GE').get_financial_stmts('annual','balance')\\\n",
    "[\"balanceSheetHistory\"][\"GE\"][0]['2018-12-31']['totalLiab'];\n",
    "\n",
    "ge_volume = yfs.YahooFinancials('GE').get_current_volume()"
   ]
  },
  {
   "cell_type": "code",
   "execution_count": 19,
   "metadata": {},
   "outputs": [
    {
     "data": {
      "text/plain": [
       "{1: (1.0620396313512823, 0.14410884696662402),\n",
       " 2: (0.10919137891294095, 0.4565253490276033),\n",
       " 3: (-0.3597120589277134, 0.6404687634184646),\n",
       " 4: (-0.786600573272322, 0.7842421382072979),\n",
       " 5: (-1.258718364884862, 0.8959339621713638)}"
      ]
     },
     "execution_count": 19,
     "metadata": {},
     "output_type": "execute_result"
    }
   ],
   "source": [
    "ge_dict_profile = {}\n",
    "for num in range(1, 6):\n",
    "    ge_DD_Merton,ge_PD_Merton =hw1.calc_prob_default(assets=ge_totalAsset,\n",
    "                                                         equity=ge_mkt_val,\n",
    "                                                         debt=ge_totalLib,\n",
    "                                                         t=num,\n",
    "                                                         equity_vol=vol['GE'],\n",
    "                                                         rf=0.0173)\n",
    "    ge_dict_profile.update({num: (ge_DD_Merton, ge_PD_Merton)})\n",
    "    \n",
    "ge_dict_profile"
   ]
  },
  {
   "cell_type": "markdown",
   "metadata": {},
   "source": [
    "# 3. TSLA"
   ]
  },
  {
   "cell_type": "code",
   "execution_count": 20,
   "metadata": {},
   "outputs": [],
   "source": [
    "tsla_totalAsset = yfs.YahooFinancials('TSLA').get_financial_stmts('annual','balance')\\\n",
    "[\"balanceSheetHistory\"][\"TSLA\"][0]['2018-12-31']['totalAssets'];\n",
    "\n",
    "tsla_totalCurrLib = yfs.YahooFinancials('TSLA').get_financial_stmts('annual','balance')\\\n",
    "[\"balanceSheetHistory\"][\"TSLA\"][0]['2018-12-31']['totalCurrentLiabilities'];\n",
    "\n",
    "tsla_totalCurrAsset = yfs.YahooFinancials('TSLA').get_financial_stmts('annual','balance')\\\n",
    "[\"balanceSheetHistory\"][\"TSLA\"][0]['2018-12-31']['totalCurrentAssets'];\n",
    "\n",
    "tsla_RetainedEarning = yfs.YahooFinancials('TSLA').get_financial_stmts('annual','balance')\\\n",
    "[\"balanceSheetHistory\"][\"TSLA\"][0]['2018-12-31']['retainedEarnings'];\n",
    "\n",
    "tsla_EBIT = yfs.YahooFinancials('TSLA').get_financial_stmts('annual','income')\\\n",
    "[\"incomeStatementHistory\"][\"TSLA\"][0]['2018-12-31']['ebit']\n",
    "\n",
    "tsla_mkt_val = yfs.YahooFinancials('TSLA').get_market_cap()\n",
    "\n",
    "tsla_sales = yfs.YahooFinancials('TSLA').get_total_revenue()"
   ]
  },
  {
   "cell_type": "code",
   "execution_count": 21,
   "metadata": {},
   "outputs": [
    {
     "data": {
      "text/plain": [
       "-1685828000"
      ]
     },
     "execution_count": 21,
     "metadata": {},
     "output_type": "execute_result"
    }
   ],
   "source": [
    "# Working Capital\n",
    "tsla_working_cap = tsla_totalCurrAsset-tsla_totalCurrLib\n",
    "tsla_working_cap"
   ]
  },
  {
   "cell_type": "code",
   "execution_count": 22,
   "metadata": {},
   "outputs": [],
   "source": [
    "# Book Value of Debt\n",
    "\n",
    "tsla_longtermDebt = yfs.YahooFinancials('TSLA').get_financial_stmts('annual','balance')\\\n",
    "[\"balanceSheetHistory\"][\"TSLA\"][0]['2018-12-31']['longTermDebt'];\n",
    "\n",
    "tsla_accountsPayable = yfs.YahooFinancials('TSLA').get_financial_stmts('annual','balance')\\\n",
    "[\"balanceSheetHistory\"][\"TSLA\"][0]['2018-12-31']['accountsPayable'];\n",
    "\n",
    "tsla_book_val_debt = tsla_accountsPayable+tsla_longtermDebt+tsla_totalCurrLib"
   ]
  },
  {
   "cell_type": "markdown",
   "metadata": {},
   "source": [
    "## 1.1 Altman's Z"
   ]
  },
  {
   "cell_type": "code",
   "execution_count": 23,
   "metadata": {},
   "outputs": [
    {
     "data": {
      "text/plain": [
       "2.2313243245613523"
      ]
     },
     "execution_count": 23,
     "metadata": {},
     "output_type": "execute_result"
    }
   ],
   "source": [
    "tsla_altman_z=hw1.calc_altman_z(total_assets=tsla_totalAsset,\n",
    "                                working_capital=tsla_working_cap,\n",
    "                                retained_earnings=tsla_RetainedEarning,\n",
    "                                ebit=tsla_EBIT,\n",
    "                                mv_equity=tsla_mkt_val,\n",
    "                                sales=tsla_sales,\n",
    "                                book_value_debt=tsla_book_val_debt)\n",
    "tsla_altman_z"
   ]
  },
  {
   "cell_type": "markdown",
   "metadata": {},
   "source": [
    "1.8 < Z < 2.8, bankruptcy risk is moderate."
   ]
  },
  {
   "cell_type": "markdown",
   "metadata": {},
   "source": [
    "## 1.2 Merton"
   ]
  },
  {
   "cell_type": "code",
   "execution_count": 24,
   "metadata": {},
   "outputs": [],
   "source": [
    "tsla_totalLib = yfs.YahooFinancials('TSLA').get_financial_stmts('annual','balance')\\\n",
    "[\"balanceSheetHistory\"][\"TSLA\"][0]['2018-12-31']['totalLiab'];\n",
    "\n",
    "tsla_volume = yfs.YahooFinancials('TSLA').get_current_volume()"
   ]
  },
  {
   "cell_type": "code",
   "execution_count": 25,
   "metadata": {},
   "outputs": [
    {
     "data": {
      "text/plain": [
       "{1: (1.3306244441279167, 0.09165630761486726),\n",
       " 2: (-0.3482650148285822, 0.6361794173555051),\n",
       " 3: (-1.4077421080115862, 0.9203962758374551),\n",
       " 4: (-2.459657384444017, 0.993046514654468),\n",
       " 5: (-3.5963158412376783, 0.9998386220551745)}"
      ]
     },
     "execution_count": 25,
     "metadata": {},
     "output_type": "execute_result"
    }
   ],
   "source": [
    "tsla_dict_profile = {}\n",
    "for num in range(1, 6):\n",
    "    tsla_DD_Merton,tsla_PD_Merton =hw1.calc_prob_default(assets=tsla_totalAsset,\n",
    "                                                         equity=tsla_mkt_val,\n",
    "                                                         debt=tsla_totalLib,\n",
    "                                                         t=num,\n",
    "                                                         equity_vol=vol['TSLA'],\n",
    "                                                         rf=0.0173)\n",
    "    tsla_dict_profile.update({num: (tsla_DD_Merton, tsla_PD_Merton)})\n",
    "    \n",
    "tsla_dict_profile"
   ]
  },
  {
   "cell_type": "code",
   "execution_count": null,
   "metadata": {},
   "outputs": [],
   "source": []
  },
  {
   "cell_type": "markdown",
   "metadata": {},
   "source": [
    "# 4. MSFT"
   ]
  },
  {
   "cell_type": "code",
   "execution_count": 26,
   "metadata": {},
   "outputs": [],
   "source": [
    "msft_totalAsset = yfs.YahooFinancials('MSFT').get_financial_stmts('annual','balance')\\\n",
    "[\"balanceSheetHistory\"][\"MSFT\"][0]['2019-06-30']['totalAssets'];\n",
    "\n",
    "msft_totalCurrLib = yfs.YahooFinancials('MSFT').get_financial_stmts('annual','balance')\\\n",
    "[\"balanceSheetHistory\"][\"MSFT\"][0]['2019-06-30']['totalCurrentLiabilities'];\n",
    "\n",
    "msft_totalCurrAsset = yfs.YahooFinancials('MSFT').get_financial_stmts('annual','balance')\\\n",
    "[\"balanceSheetHistory\"][\"MSFT\"][0]['2019-06-30']['totalCurrentAssets'];\n",
    "\n",
    "msft_RetainedEarning = yfs.YahooFinancials('MSFT').get_financial_stmts('annual','balance')\\\n",
    "[\"balanceSheetHistory\"][\"MSFT\"][0]['2019-06-30']['retainedEarnings'];\n",
    "\n",
    "msft_EBIT = yfs.YahooFinancials('MSFT').get_financial_stmts('annual','income')\\\n",
    "[\"incomeStatementHistory\"][\"MSFT\"][0]['2019-06-30']['ebit']\n",
    "\n",
    "msft_mkt_val = yfs.YahooFinancials('MSFT').get_market_cap()\n",
    "msft_sales = yfs.YahooFinancials('MSFT').get_total_revenue()\n"
   ]
  },
  {
   "cell_type": "code",
   "execution_count": 27,
   "metadata": {},
   "outputs": [
    {
     "data": {
      "text/plain": [
       "106132000000"
      ]
     },
     "execution_count": 27,
     "metadata": {},
     "output_type": "execute_result"
    }
   ],
   "source": [
    "# Working Capital\n",
    "msft_working_cap = msft_totalCurrAsset-msft_totalCurrLib\n",
    "msft_working_cap"
   ]
  },
  {
   "cell_type": "code",
   "execution_count": 28,
   "metadata": {},
   "outputs": [],
   "source": [
    "# Book Value of Debt\n",
    "\n",
    "msft_longtermDebt = yfs.YahooFinancials('MSFT').get_financial_stmts('annual','balance')\\\n",
    "[\"balanceSheetHistory\"][\"MSFT\"][0]['2019-06-30']['longTermDebt'];\n",
    "\n",
    "msft_accountsPayable = yfs.YahooFinancials('MSFT').get_financial_stmts('annual','balance')\\\n",
    "[\"balanceSheetHistory\"][\"MSFT\"][0]['2019-06-30']['accountsPayable'];\n",
    "\n",
    "msft_book_val_debt = msft_accountsPayable+msft_longtermDebt+msft_totalCurrLib"
   ]
  },
  {
   "cell_type": "markdown",
   "metadata": {},
   "source": [
    "## 1.1 Altman's Z"
   ]
  },
  {
   "cell_type": "code",
   "execution_count": 29,
   "metadata": {},
   "outputs": [
    {
     "data": {
      "text/plain": [
       "8.585369987408502"
      ]
     },
     "execution_count": 29,
     "metadata": {},
     "output_type": "execute_result"
    }
   ],
   "source": [
    "msft_altman_z=hw1.calc_altman_z(total_assets=msft_totalAsset,\n",
    "                                working_capital=msft_working_cap,\n",
    "                                retained_earnings=msft_RetainedEarning,\n",
    "                                ebit=msft_EBIT,\n",
    "                                mv_equity=msft_mkt_val,\n",
    "                                sales=msft_sales,\n",
    "                                book_value_debt=msft_book_val_debt)\n",
    "msft_altman_z"
   ]
  },
  {
   "cell_type": "markdown",
   "metadata": {},
   "source": [
    "Z > 2.8, bankruptcy risk is low."
   ]
  },
  {
   "cell_type": "markdown",
   "metadata": {},
   "source": [
    "## 1.2 Merton"
   ]
  },
  {
   "cell_type": "code",
   "execution_count": 30,
   "metadata": {},
   "outputs": [],
   "source": [
    "msft_totalLib = yfs.YahooFinancials('MSFT').get_financial_stmts('annual','balance')\\\n",
    "[\"balanceSheetHistory\"][\"MSFT\"][0]['2019-06-30']['totalLiab'];\n",
    "\n",
    "msft_volume = yfs.YahooFinancials('MSFT').get_current_volume()"
   ]
  },
  {
   "cell_type": "code",
   "execution_count": 31,
   "metadata": {},
   "outputs": [
    {
     "data": {
      "text/plain": [
       "{1: (1.8325144467018948, 0.0334374056979105),\n",
       " 2: (-0.3995519188411554, 0.6552567119157138),\n",
       " 3: (-1.7717519529830708, 0.9617821292874051),\n",
       " 4: (-3.119119678395128, 0.9990930386629133),\n",
       " 5: (-4.555649090432154, 0.9999973887970963)}"
      ]
     },
     "execution_count": 31,
     "metadata": {},
     "output_type": "execute_result"
    }
   ],
   "source": [
    "msft_dict_profile = {}\n",
    "for num in range(1, 6):\n",
    "    msft_DD_Merton,msft_PD_Merton =hw1.calc_prob_default(assets=msft_totalAsset,\n",
    "                                                         equity=msft_mkt_val,\n",
    "                                                         debt=msft_totalLib,\n",
    "                                                         t=num,\n",
    "                                                         equity_vol=vol['MSFT'],\n",
    "                                                         rf=0.0173)\n",
    "    msft_dict_profile.update({num: (msft_DD_Merton, msft_PD_Merton)})\n",
    "    \n",
    "msft_dict_profile"
   ]
  },
  {
   "cell_type": "markdown",
   "metadata": {},
   "source": [
    "# 5. GS"
   ]
  },
  {
   "cell_type": "code",
   "execution_count": 32,
   "metadata": {},
   "outputs": [],
   "source": [
    "gs_totalAsset = yfs.YahooFinancials('GS').get_financial_stmts('annual','balance')\\\n",
    "[\"balanceSheetHistory\"][\"GS\"][0]['2018-12-31']['totalAssets'];\n",
    "\n",
    "gs_totalCurrLib = yfs.YahooFinancials('GS').get_financial_stmts('annual','balance')\\\n",
    "[\"balanceSheetHistory\"][\"GS\"][0]['2018-12-31']['totalCurrentLiabilities'];\n",
    "\n",
    "gs_totalCurrAsset = yfs.YahooFinancials('GS').get_financial_stmts('annual','balance')\\\n",
    "[\"balanceSheetHistory\"][\"GS\"][0]['2018-12-31']['totalCurrentAssets'];\n",
    "\n",
    "gs_RetainedEarning = yfs.YahooFinancials('GS').get_financial_stmts('annual','balance')\\\n",
    "[\"balanceSheetHistory\"][\"GS\"][0]['2018-12-31']['retainedEarnings'];\n",
    "\n",
    "gs_EBIT = yfs.YahooFinancials('GS').get_financial_stmts('annual','income')\\\n",
    "[\"incomeStatementHistory\"][\"GS\"][0]['2018-12-31']['ebit']\n",
    "\n",
    "gs_mkt_val = yfs.YahooFinancials('GS').get_market_cap()\n",
    "\n",
    "gs_sales = yfs.YahooFinancials('GS').get_total_revenue()"
   ]
  },
  {
   "cell_type": "code",
   "execution_count": 33,
   "metadata": {},
   "outputs": [
    {
     "data": {
      "text/plain": [
       "427413000000"
      ]
     },
     "execution_count": 33,
     "metadata": {},
     "output_type": "execute_result"
    }
   ],
   "source": [
    "# Working Capital\n",
    "gs_working_cap = gs_totalCurrAsset-gs_totalCurrLib\n",
    "gs_working_cap"
   ]
  },
  {
   "cell_type": "code",
   "execution_count": 34,
   "metadata": {},
   "outputs": [],
   "source": [
    "# Book Value of Debt\n",
    "\n",
    "gs_longtermDebt = yfs.YahooFinancials('GS').get_financial_stmts('annual','balance')\\\n",
    "[\"balanceSheetHistory\"][\"GS\"][0]['2018-12-31']['longTermDebt'];\n",
    "\n",
    "gs_accountsPayable = yfs.YahooFinancials('GS').get_financial_stmts('annual','balance')\\\n",
    "[\"balanceSheetHistory\"][\"GS\"][0]['2018-12-31']['accountsPayable'];\n",
    "\n",
    "gs_book_val_debt = gs_accountsPayable+gs_longtermDebt+gs_totalCurrLib"
   ]
  },
  {
   "cell_type": "markdown",
   "metadata": {},
   "source": [
    "## 1.1 Altman's Z"
   ]
  },
  {
   "cell_type": "code",
   "execution_count": 35,
   "metadata": {},
   "outputs": [
    {
     "data": {
      "text/plain": [
       "0.8067534196548376"
      ]
     },
     "execution_count": 35,
     "metadata": {},
     "output_type": "execute_result"
    }
   ],
   "source": [
    "gs_altman_z=hw1.calc_altman_z(total_assets=gs_totalAsset,\n",
    "                                working_capital=gs_working_cap,\n",
    "                                retained_earnings=gs_RetainedEarning,\n",
    "                                ebit=gs_EBIT,\n",
    "                                mv_equity=gs_mkt_val,\n",
    "                                sales=gs_sales,\n",
    "                                book_value_debt=gs_book_val_debt)\n",
    "gs_altman_z"
   ]
  },
  {
   "cell_type": "markdown",
   "metadata": {},
   "source": [
    "Z < 1.8, bankruptcy risk is high."
   ]
  },
  {
   "cell_type": "markdown",
   "metadata": {},
   "source": [
    "## 1.2 Merton"
   ]
  },
  {
   "cell_type": "code",
   "execution_count": 36,
   "metadata": {},
   "outputs": [],
   "source": [
    "gs_totalLib = yfs.YahooFinancials('GS').get_financial_stmts('annual','balance')\\\n",
    "[\"balanceSheetHistory\"][\"GS\"][0]['2018-12-31']['totalLiab'];\n",
    "\n",
    "gs_volume = yfs.YahooFinancials('GS').get_current_volume()"
   ]
  },
  {
   "cell_type": "code",
   "execution_count": 37,
   "metadata": {},
   "outputs": [
    {
     "data": {
      "text/plain": [
       "{1: (1.155059478005004, 0.12403303535336546),\n",
       " 2: (0.382425182068711, 0.35107300735669256),\n",
       " 3: (0.09764634483583268, 0.46110656123188715),\n",
       " 4: (-0.11281220261028013, 0.5449102780894848),\n",
       " 5: (-0.32414764063201496, 0.6270868698236023)}"
      ]
     },
     "execution_count": 37,
     "metadata": {},
     "output_type": "execute_result"
    }
   ],
   "source": [
    "gs_dict_profile = {}\n",
    "for num in range(1, 6):\n",
    "    gs_DD_Merton,gs_PD_Merton =hw1.calc_prob_default(assets=gs_totalAsset,\n",
    "                                                         equity=gs_mkt_val,\n",
    "                                                         debt=gs_totalLib,\n",
    "                                                         t=num,\n",
    "                                                         equity_vol=vol['GS'],\n",
    "                                                         rf=0.0173)\n",
    "    gs_dict_profile.update({num: (gs_DD_Merton, gs_PD_Merton)})\n",
    "    \n",
    "gs_dict_profile"
   ]
  },
  {
   "cell_type": "code",
   "execution_count": null,
   "metadata": {},
   "outputs": [],
   "source": []
  }
 ],
 "metadata": {
  "kernelspec": {
   "display_name": "Python 3",
   "language": "python",
   "name": "python3"
  },
  "language_info": {
   "codemirror_mode": {
    "name": "ipython",
    "version": 3
   },
   "file_extension": ".py",
   "mimetype": "text/x-python",
   "name": "python",
   "nbconvert_exporter": "python",
   "pygments_lexer": "ipython3",
   "version": "3.7.1"
  }
 },
 "nbformat": 4,
 "nbformat_minor": 2
}
